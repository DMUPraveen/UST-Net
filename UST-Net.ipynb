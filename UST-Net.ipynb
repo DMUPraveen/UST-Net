{
 "cells": [
  {
   "cell_type": "markdown",
   "id": "f9c1cd85",
   "metadata": {
    "ExecuteTime": {
     "end_time": "2022-07-11T06:28:03.324348Z",
     "start_time": "2022-07-11T06:28:03.314381Z"
    },
    "code_folding": []
   },
   "source": [
    "# UST-Net\n",
    "## Written by Zhiru Yang"
   ]
  },
  {
   "cell_type": "markdown",
   "id": "1196c74d",
   "metadata": {},
   "source": [
    "## import"
   ]
  },
  {
   "cell_type": "code",
   "execution_count": 1,
   "id": "77a580d1",
   "metadata": {
    "ExecuteTime": {
     "end_time": "2023-02-19T12:35:49.265258Z",
     "start_time": "2023-02-19T12:35:47.074104Z"
    },
    "code_folding": []
   },
   "outputs": [],
   "source": [
    "import time\n",
    "import tensorflow as tf\n",
    "from numpy.random import seed\n",
    "seed(1)\n",
    "import random \n",
    "random.seed(1)\n",
    "from tensorflow import random\n",
    "random.set_seed(1)\n",
    "from GroupNorm import GroupNormalization as GN\n",
    "tf.compat.v1.disable_eager_execution()\n",
    "from tensorflow.keras import layers,Model,regularizers,constraints\n",
    "from scipy import io as sio\n",
    "import numpy as np\n",
    "import os\n",
    "import swinT\n",
    "from utils import (\n",
    "    PlotWhileTraining,\n",
    "    load_HSI,\n",
    "    plotEndmembersAndGT, \n",
    "    plotAbundancesSimple,\n",
    "    plotEndmembers,\n",
    "    )\n",
    "from einops import rearrange\n",
    "from tensorflow.keras.layers import (\n",
    "    Conv2D,\n",
    "    concatenate,\n",
    "    MaxPooling2D,\n",
    "    UpSampling2D,\n",
    "    LeakyReLU,\n",
    "    Dense\n",
    ")\n",
    "import matplotlib.pyplot as plt"
   ]
  },
  {
   "cell_type": "code",
   "execution_count": 2,
   "id": "ff1ff2ee",
   "metadata": {
    "ExecuteTime": {
     "end_time": "2023-02-19T12:35:49.281207Z",
     "start_time": "2023-02-19T12:35:49.266255Z"
    }
   },
   "outputs": [],
   "source": [
    "os.environ[\"CUDA_VISIBLE_DEVICES\"] = \"-1\""
   ]
  },
  {
   "cell_type": "markdown",
   "id": "7a200b4a",
   "metadata": {},
   "source": [
    "## Loss function"
   ]
  },
  {
   "cell_type": "code",
   "execution_count": 3,
   "id": "f8599e95",
   "metadata": {
    "ExecuteTime": {
     "end_time": "2023-02-19T12:35:49.297152Z",
     "start_time": "2023-02-19T12:35:49.283199Z"
    }
   },
   "outputs": [],
   "source": [
    "def SAD_RMSE(y_true, y_pred):\n",
    "    A = -tf.keras.losses.cosine_similarity(y_true,y_pred)\n",
    "    sad = tf.math.acos(A)\n",
    "    rmse= tf.keras.losses.mse(y_true,y_pred) \n",
    "    return sad+rmse"
   ]
  },
  {
   "cell_type": "code",
   "execution_count": 4,
   "id": "aadcaad8",
   "metadata": {
    "ExecuteTime": {
     "end_time": "2023-02-19T12:35:49.313099Z",
     "start_time": "2023-02-19T12:35:49.298149Z"
    },
    "code_folding": []
   },
   "outputs": [],
   "source": [
    "def array(x):\n",
    "    with tf.compat.v1.Session() as sess:\n",
    "        sess.run(tf.compat.v1.global_variables_initializer())\n",
    "        x= sess.run(x)\n",
    "    return x"
   ]
  },
  {
   "cell_type": "markdown",
   "id": "1bd6b354",
   "metadata": {},
   "source": [
    "## Class Sum ToOne"
   ]
  },
  {
   "cell_type": "code",
   "execution_count": 5,
   "id": "8c11cfab",
   "metadata": {
    "ExecuteTime": {
     "end_time": "2023-02-19T12:35:49.329050Z",
     "start_time": "2023-02-19T12:35:49.314095Z"
    }
   },
   "outputs": [],
   "source": [
    "class SumToOne(layers.Layer):\n",
    "    def __init__(self, params, **kwargs):\n",
    "        super(SumToOne, self).__init__(**kwargs)\n",
    "        self.params = params\n",
    "    \n",
    "    def call(self, x):\n",
    "        x = tf.nn.softmax(self.params['scale']*x)\n",
    "        return x"
   ]
  },
  {
   "cell_type": "markdown",
   "id": "8ea64162",
   "metadata": {
    "ExecuteTime": {
     "end_time": "2022-07-11T09:00:31.333590Z",
     "start_time": "2022-07-11T09:00:31.268807Z"
    }
   },
   "source": [
    "## Class Encoder"
   ]
  },
  {
   "cell_type": "code",
   "execution_count": 6,
   "id": "0f614035",
   "metadata": {
    "ExecuteTime": {
     "end_time": "2023-02-19T12:35:49.344997Z",
     "start_time": "2023-02-19T12:35:49.330047Z"
    }
   },
   "outputs": [],
   "source": [
    "class Encoder(Model):\n",
    "    def __init__(self, params):\n",
    "        super(Encoder, self).__init__()\n",
    "        self.params = params\n",
    "        self.hidden_layer1= swinT.SwinT(depths=[2],num_heads=[self.params['heads']],window_size=4)\n",
    "        self.pool=MaxPooling2D((2, 2), strides=(2, 2))\n",
    "        self.up=UpSampling2D(size=(2, 2),interpolation='bilinear')\n",
    "        self.asc=SumToOne(params=self.params)\n",
    "        \n",
    "    def call(self, input_patch):\n",
    "        code1= Conv2D(self.params['low_dim'],1,1,use_bias=False)(input_patch)\n",
    "        # Downsampling 1\n",
    "        pool1 = self.pool(code1)\n",
    "        code2=self.hidden_layer1(pool1)\n",
    "        code2 = GN(groups=self.params['heads'], scale=False, center=False)(code2)\n",
    "        code2 = tf.keras.layers.Dropout(0.2)(code2)\n",
    "        code2=LeakyReLU()(code2)\n",
    "        # Downsampling 2\n",
    "        pool2 = self.pool(code2)\n",
    "        code3=self.hidden_layer1(pool2)\n",
    "        code3 = GN(groups=self.params['heads'], scale=False, center=False)(code3)\n",
    "        code3 = tf.keras.layers.Dropout(0.2)(code3)\n",
    "        code3=LeakyReLU()(code3)\n",
    "        # Downsampling 3\n",
    "        pool3 = self.pool(code3)\n",
    "        code4=self.hidden_layer1(pool3)\n",
    "        code4 = GN(groups=self.params['heads'], scale=False, center=False)(code4)\n",
    "        code4 = tf.keras.layers.Dropout(0.2)(code4)\n",
    "        code4=LeakyReLU()(code4)\n",
    "        \n",
    "        # Upsampling 1\n",
    "        up1 = concatenate([self.up(code4), code3], axis=3)\n",
    "        code5=self.hidden_layer1(up1)\n",
    "        code5 = GN(groups=self.params['heads'], scale=False, center=False)(code5)\n",
    "        code5 = tf.keras.layers.Dropout(0.2)(code5)\n",
    "        code5=LeakyReLU()(code5)\n",
    "        # Upsampling 2\n",
    "        up2 = concatenate([self.up(code5), code2], axis=3)\n",
    "        code6=self.hidden_layer1(up2)\n",
    "        code6 = GN(groups=self.params['heads'], scale=False, center=False)(code6)\n",
    "        code6 = tf.keras.layers.Dropout(0.2)(code6)\n",
    "        code6=LeakyReLU()(code6)\n",
    "        # Upsampling 3\n",
    "        up3 = concatenate([self.up(code6), code1], axis=3)\n",
    "        code7=self.hidden_layer1(up3)\n",
    "        code7 = GN(groups=self.params['heads'], scale=False, center=False)(code7)\n",
    "        code7 = tf.keras.layers.Dropout(0.2)(code7)\n",
    "        code7=LeakyReLU()(code7)        \n",
    "        \n",
    "        code8=Conv2D(self.params['num_endmembers'],1,1,use_bias=False)(code7)\n",
    "        code8=self.asc(code8)\n",
    "        return code8"
   ]
  },
  {
   "cell_type": "markdown",
   "id": "7f431abf",
   "metadata": {},
   "source": [
    "## Class Decoder\n"
   ]
  },
  {
   "cell_type": "code",
   "execution_count": 7,
   "id": "2338683c",
   "metadata": {
    "ExecuteTime": {
     "end_time": "2023-02-19T12:35:49.375893Z",
     "start_time": "2023-02-19T12:35:49.360943Z"
    }
   },
   "outputs": [],
   "source": [
    "class Decoder(layers.Layer):\n",
    "    def __init__(self, params):\n",
    "        super(Decoder, self).__init__()\n",
    "        self.params=params\n",
    "        self.output_layer= tf.keras.layers.Dense(units=params[\"data\"].array(0).shape[1],\n",
    "                                                 kernel_regularizer=None,\n",
    "                                                 activation='linear',\n",
    "                                                 name=\"endmembers\",\n",
    "                                                 kernel_constraint=tf.keras.constraints.non_neg(),\n",
    "                                                 use_bias=False)\n",
    "    def call(self, code):   \n",
    "        B, H, W, C = code.shape\n",
    "        code = tf.reshape(code, [-1, H * W, C])\n",
    "        recon = self.output_layer(code)\n",
    "        recon = tf.reshape(recon, [-1, H, W, self.params[\"data\"].array(0).shape[1]])\n",
    "        return recon\n",
    "    \n",
    "    def getEndmembers(self):\n",
    "        w=self.output_layer.get_weights()[0]\n",
    "        return w\n"
   ]
  },
  {
   "cell_type": "markdown",
   "id": "9726fc12",
   "metadata": {},
   "source": [
    "## Recover image"
   ]
  },
  {
   "cell_type": "code",
   "execution_count": 8,
   "id": "8b1a8c6a",
   "metadata": {
    "ExecuteTime": {
     "end_time": "2023-02-19T12:35:49.390843Z",
     "start_time": "2023-02-19T12:35:49.376890Z"
    },
    "code_folding": []
   },
   "outputs": [],
   "source": [
    "def recover_image(hsi,abundance_predict):\n",
    "    image=hsi.image\n",
    "    h,w,c=image.shape\n",
    "    abundance_recover=abundance_predict[0:h,0:w,:]\n",
    "    return abundance_recover"
   ]
  },
  {
   "cell_type": "markdown",
   "id": "81fa6be7",
   "metadata": {},
   "source": [
    "## Class Autoencoder"
   ]
  },
  {
   "cell_type": "code",
   "execution_count": 9,
   "id": "95cb9252",
   "metadata": {
    "ExecuteTime": {
     "end_time": "2023-02-19T12:35:49.405793Z",
     "start_time": "2023-02-19T12:35:49.392837Z"
    },
    "code_folding": []
   },
   "outputs": [],
   "source": [
    "class Autoencoder(object):\n",
    "    def __init__(self, patches,params):\n",
    "        self.data = params[\"data\"].image_pad\n",
    "        self.encoder = Encoder(params)\n",
    "        self.params = params\n",
    "        self.decoder = Decoder(params)\n",
    "        self.H=patches.shape[1]\n",
    "        self.W=patches.shape[2]\n",
    "        self.model=self.create_model()\n",
    "        self.model.compile(optimizer=self.params[\"optimizer\"], loss=self.params[\"loss\"])\n",
    "        \n",
    "    def create_model(self):\n",
    "        input_a = tf.keras.layers.Input(shape=(self.H,self.W,self.params[\"data\"].array(0).shape[1],))\n",
    "        abunds = self.encoder(input_a)\n",
    "        output = self.decoder(abunds)\n",
    "        return Model(inputs=input_a, outputs=output)\n",
    "    def get_endmembers(self):\n",
    "        endmembers = self.decoder.getEndmembers() \n",
    "        return endmembers\n",
    "\n",
    "    def get_abundances(self):  \n",
    "        abundances=np.squeeze(self.encoder.predict(np.expand_dims(self.data, 0)))\n",
    "        abundances=recover_image(self.params[\"data\"],abundances) \n",
    "        return abundances\n",
    "        \n",
    "    def fit(self, patches):\n",
    "        plot_callback = PlotWhileTraining(0,self.params['data'])\n",
    "        y=self.model.fit(\n",
    "            x=patches, y=patches, \n",
    "            epochs=self.params['epochs'], \n",
    "            batch_size=self.params['batch_size'],\n",
    "            callbacks=[plot_callback],\n",
    "            verbose=1\n",
    "        )\n",
    "        # Plot loss pictures for training epochs\n",
    "        loss_values = y.history['loss']\n",
    "        fig = plt.figure()\n",
    "        rect = fig.patch\n",
    "        rect.set_facecolor('white')\n",
    "        plt.plot(range(1, len(loss_values)+1), loss_values, 'b-')\n",
    "        plt.xlabel('Epoch')\n",
    "        plt.ylabel('Loss')\n",
    "        plt.title('Loss per Epoch')\n",
    "        plt.show()\n",
    "   \n",
    "        return y"
   ]
  },
  {
   "cell_type": "markdown",
   "id": "ba73eb21",
   "metadata": {},
   "source": [
    "## Set hyperparameters"
   ]
  },
  {
   "cell_type": "code",
   "execution_count": 10,
   "id": "75c2da37",
   "metadata": {
    "ExecuteTime": {
     "end_time": "2023-02-19T12:35:49.593166Z",
     "start_time": "2023-02-19T12:35:49.406790Z"
    },
    "code_folding": []
   },
   "outputs": [],
   "source": [
    "datasetnames = {\n",
    "    \"Samson\": \"Samson\",\n",
    "    \"Jasper\":\"Jasper\",\n",
    "    \"sy30\":\"sy30\"\n",
    "}\n",
    "\n",
    "dataset= \"Samson\"\n",
    "# Hyperparameters\n",
    "hsi = load_HSI(\n",
    "    \"./Datasets/\" + datasetnames[dataset] + \".mat\"\n",
    ")\n",
    "\n",
    "# Hyperparameters\n",
    "batch_size = 1\n",
    "heads=6\n",
    "ds=6\n",
    "learning_rate = 0.001\n",
    "epochs =100\n",
    "scale =1\n",
    "loss=SAD_RMSE\n",
    "opt= tf.optimizers.RMSprop(learning_rate=learning_rate, decay=0.000)"
   ]
  },
  {
   "cell_type": "markdown",
   "id": "fb28a876",
   "metadata": {},
   "source": [
    "## Train"
   ]
  },
  {
   "cell_type": "code",
   "execution_count": 11,
   "id": "6febf6eb",
   "metadata": {
    "ExecuteTime": {
     "end_time": "2023-02-19T14:14:07.198280Z",
     "start_time": "2023-02-19T12:35:49.595160Z"
    },
    "code_folding": []
   },
   "outputs": [
    {
     "name": "stdout",
     "output_type": "stream",
     "text": [
      "Train on 10 samples\n",
      "Epoch 1/100\n",
      "10/10 [==============================] - 4s 124ms/sample - loss: 0.9828\n",
      "Epoch 2/100\n",
      "10/10 [==============================] - 1s 117ms/sample - loss: 0.7546\n",
      "Epoch 3/100\n",
      "10/10 [==============================] - 1s 119ms/sample - loss: 0.6574\n",
      "Epoch 4/100\n",
      "10/10 [==============================] - 1s 115ms/sample - loss: 0.5786\n",
      "Epoch 5/100\n",
      "10/10 [==============================] - 1s 117ms/sample - loss: 0.5087\n",
      "Epoch 6/100\n",
      "10/10 [==============================] - 1s 119ms/sample - loss: 0.4410\n",
      "Epoch 7/100\n",
      "10/10 [==============================] - 1s 118ms/sample - loss: 0.3773\n",
      "Epoch 8/100\n",
      "10/10 [==============================] - 1s 120ms/sample - loss: 0.3211\n",
      "Epoch 9/100\n",
      "10/10 [==============================] - 1s 118ms/sample - loss: 0.2740\n",
      "Epoch 10/100\n",
      "10/10 [==============================] - 1s 120ms/sample - loss: 0.2367\n",
      "Epoch 11/100\n",
      "10/10 [==============================] - 1s 120ms/sample - loss: 0.2094\n",
      "Epoch 12/100\n",
      "10/10 [==============================] - 1s 119ms/sample - loss: 0.1902\n",
      "Epoch 13/100\n",
      "10/10 [==============================] - 1s 120ms/sample - loss: 0.1761\n",
      "Epoch 14/100\n",
      "10/10 [==============================] - 1s 126ms/sample - loss: 0.1678\n",
      "Epoch 15/100\n",
      "10/10 [==============================] - 1s 128ms/sample - loss: 0.1591\n",
      "Epoch 16/100\n",
      "10/10 [==============================] - 1s 123ms/sample - loss: 0.1566\n",
      "Epoch 17/100\n",
      "10/10 [==============================] - 1s 125ms/sample - loss: 0.1521\n",
      "Epoch 18/100\n",
      "10/10 [==============================] - 1s 123ms/sample - loss: 0.1484\n",
      "Epoch 19/100\n",
      "10/10 [==============================] - 1s 121ms/sample - loss: 0.1394\n",
      "Epoch 20/100\n",
      "10/10 [==============================] - 1s 120ms/sample - loss: 0.1310\n",
      "Epoch 21/100\n",
      "10/10 [==============================] - 1s 122ms/sample - loss: 0.1281\n",
      "Epoch 22/100\n",
      "10/10 [==============================] - 1s 123ms/sample - loss: 0.1231\n",
      "Epoch 23/100\n",
      "10/10 [==============================] - 1s 123ms/sample - loss: 0.1240\n",
      "Epoch 24/100\n",
      "10/10 [==============================] - 1s 124ms/sample - loss: 0.1190\n",
      "Epoch 25/100\n",
      "10/10 [==============================] - 1s 124ms/sample - loss: 0.1169\n",
      "Epoch 26/100\n",
      "10/10 [==============================] - 1s 126ms/sample - loss: 0.1146\n",
      "Epoch 27/100\n",
      "10/10 [==============================] - 1s 124ms/sample - loss: 0.1121\n",
      "Epoch 28/100\n",
      "10/10 [==============================] - 1s 123ms/sample - loss: 0.1116\n",
      "Epoch 29/100\n",
      "10/10 [==============================] - 1s 123ms/sample - loss: 0.1103\n",
      "Epoch 30/100\n",
      "10/10 [==============================] - 1s 129ms/sample - loss: 0.1078\n",
      "Epoch 31/100\n",
      "10/10 [==============================] - 1s 131ms/sample - loss: 0.1065\n",
      "Epoch 32/100\n",
      "10/10 [==============================] - 1s 126ms/sample - loss: 0.1056\n",
      "Epoch 33/100\n",
      "10/10 [==============================] - 1s 123ms/sample - loss: 0.1031\n",
      "Epoch 34/100\n",
      "10/10 [==============================] - 1s 123ms/sample - loss: 0.1015\n",
      "Epoch 35/100\n",
      "10/10 [==============================] - 1s 124ms/sample - loss: 0.1021\n",
      "Epoch 36/100\n",
      "10/10 [==============================] - 1s 124ms/sample - loss: 0.1013\n",
      "Epoch 37/100\n",
      "10/10 [==============================] - 1s 124ms/sample - loss: 0.0987\n",
      "Epoch 38/100\n",
      "10/10 [==============================] - 1s 124ms/sample - loss: 0.0989\n",
      "Epoch 39/100\n",
      "10/10 [==============================] - 1s 124ms/sample - loss: 0.0984\n",
      "Epoch 40/100\n",
      "10/10 [==============================] - 1s 123ms/sample - loss: 0.0950\n",
      "Epoch 41/100\n",
      "10/10 [==============================] - 1s 124ms/sample - loss: 0.0958\n",
      "Epoch 42/100\n",
      "10/10 [==============================] - 1s 123ms/sample - loss: 0.0944\n",
      "Epoch 43/100\n",
      "10/10 [==============================] - 1s 123ms/sample - loss: 0.0935\n",
      "Epoch 44/100\n",
      "10/10 [==============================] - 1s 123ms/sample - loss: 0.0920\n",
      "Epoch 45/100\n",
      "10/10 [==============================] - 1s 124ms/sample - loss: 0.0915\n",
      "Epoch 46/100\n",
      "10/10 [==============================] - 1s 124ms/sample - loss: 0.0898\n",
      "Epoch 47/100\n",
      "10/10 [==============================] - 1s 123ms/sample - loss: 0.0884\n",
      "Epoch 48/100\n",
      "10/10 [==============================] - 1s 124ms/sample - loss: 0.0894\n",
      "Epoch 49/100\n",
      "10/10 [==============================] - 1s 123ms/sample - loss: 0.0867\n",
      "Epoch 50/100\n",
      "10/10 [==============================] - 1s 123ms/sample - loss: 0.0883\n",
      "Epoch 51/100\n",
      "10/10 [==============================] - 1s 123ms/sample - loss: 0.0871\n",
      "Epoch 52/100\n",
      "10/10 [==============================] - 1s 124ms/sample - loss: 0.0852\n",
      "Epoch 53/100\n",
      "10/10 [==============================] - 1s 124ms/sample - loss: 0.0842\n",
      "Epoch 54/100\n",
      "10/10 [==============================] - 1s 124ms/sample - loss: 0.0849\n",
      "Epoch 55/100\n",
      "10/10 [==============================] - 1s 124ms/sample - loss: 0.0827\n",
      "Epoch 56/100\n",
      "10/10 [==============================] - 1s 124ms/sample - loss: 0.0833\n",
      "Epoch 57/100\n",
      "10/10 [==============================] - 1s 123ms/sample - loss: 0.0812\n",
      "Epoch 58/100\n",
      "10/10 [==============================] - 1s 124ms/sample - loss: 0.0821\n",
      "Epoch 59/100\n",
      "10/10 [==============================] - 1s 124ms/sample - loss: 0.0803\n",
      "Epoch 60/100\n",
      "10/10 [==============================] - 1s 128ms/sample - loss: 0.0811\n",
      "Epoch 61/100\n",
      "10/10 [==============================] - 1s 132ms/sample - loss: 0.0798\n",
      "Epoch 62/100\n",
      "10/10 [==============================] - 1s 125ms/sample - loss: 0.0788\n",
      "Epoch 63/100\n",
      "10/10 [==============================] - 1s 126ms/sample - loss: 0.0791\n",
      "Epoch 64/100\n",
      "10/10 [==============================] - 1s 125ms/sample - loss: 0.0774\n",
      "Epoch 65/100\n",
      "10/10 [==============================] - 1s 129ms/sample - loss: 0.0787\n",
      "Epoch 66/100\n",
      "10/10 [==============================] - 1s 128ms/sample - loss: 0.0754\n",
      "Epoch 67/100\n",
      "10/10 [==============================] - 1s 125ms/sample - loss: 0.0775\n",
      "Epoch 68/100\n",
      "10/10 [==============================] - 1s 125ms/sample - loss: 0.0746\n",
      "Epoch 69/100\n",
      "10/10 [==============================] - 1s 126ms/sample - loss: 0.0765\n",
      "Epoch 70/100\n",
      "10/10 [==============================] - 1s 129ms/sample - loss: 0.0743\n",
      "Epoch 71/100\n",
      "10/10 [==============================] - 1s 131ms/sample - loss: 0.0736\n",
      "Epoch 72/100\n",
      "10/10 [==============================] - 1s 127ms/sample - loss: 0.0745\n",
      "Epoch 73/100\n",
      "10/10 [==============================] - 1s 131ms/sample - loss: 0.0740\n",
      "Epoch 74/100\n",
      "10/10 [==============================] - 1s 130ms/sample - loss: 0.0732\n",
      "Epoch 75/100\n",
      "10/10 [==============================] - 1s 126ms/sample - loss: 0.0729\n",
      "Epoch 76/100\n",
      "10/10 [==============================] - 1s 132ms/sample - loss: 0.0719\n",
      "Epoch 77/100\n",
      "10/10 [==============================] - 1s 134ms/sample - loss: 0.0725\n",
      "Epoch 78/100\n",
      "10/10 [==============================] - 1s 131ms/sample - loss: 0.0712\n",
      "Epoch 79/100\n",
      "10/10 [==============================] - 1s 137ms/sample - loss: 0.0718\n",
      "Epoch 80/100\n",
      "10/10 [==============================] - 1s 132ms/sample - loss: 0.0695\n",
      "Epoch 81/100\n",
      "10/10 [==============================] - 1s 127ms/sample - loss: 0.0712\n",
      "Epoch 82/100\n",
      "10/10 [==============================] - 1s 135ms/sample - loss: 0.0707\n",
      "Epoch 83/100\n",
      "10/10 [==============================] - 1s 127ms/sample - loss: 0.0699\n",
      "Epoch 84/100\n",
      "10/10 [==============================] - 1s 130ms/sample - loss: 0.0691\n",
      "Epoch 85/100\n",
      "10/10 [==============================] - 1s 124ms/sample - loss: 0.0697\n",
      "Epoch 86/100\n",
      "10/10 [==============================] - 1s 123ms/sample - loss: 0.0689\n",
      "Epoch 87/100\n",
      "10/10 [==============================] - 1s 124ms/sample - loss: 0.0681\n",
      "Epoch 88/100\n",
      "10/10 [==============================] - 1s 128ms/sample - loss: 0.0688\n",
      "Epoch 89/100\n",
      "10/10 [==============================] - 1s 132ms/sample - loss: 0.0674\n",
      "Epoch 90/100\n",
      "10/10 [==============================] - 1s 134ms/sample - loss: 0.0681\n",
      "Epoch 91/100\n",
      "10/10 [==============================] - 1s 129ms/sample - loss: 0.0672\n",
      "Epoch 92/100\n",
      "10/10 [==============================] - 1s 129ms/sample - loss: 0.0672\n",
      "Epoch 93/100\n",
      "10/10 [==============================] - 1s 132ms/sample - loss: 0.0677\n",
      "Epoch 94/100\n",
      "10/10 [==============================] - 1s 128ms/sample - loss: 0.0670\n",
      "Epoch 95/100\n",
      "10/10 [==============================] - 1s 130ms/sample - loss: 0.0661\n",
      "Epoch 96/100\n",
      "10/10 [==============================] - 1s 140ms/sample - loss: 0.0664\n",
      "Epoch 97/100\n"
     ]
    },
    {
     "name": "stdout",
     "output_type": "stream",
     "text": [
      "10/10 [==============================] - 1s 124ms/sample - loss: 0.0659\n",
      "Epoch 98/100\n",
      "10/10 [==============================] - 1s 125ms/sample - loss: 0.0667\n",
      "Epoch 99/100\n",
      "10/10 [==============================] - 1s 123ms/sample - loss: 0.0650\n",
      "Epoch 100/100\n",
      "10/10 [==============================] - 1s 128ms/sample - loss: 0.0658\n"
     ]
    },
    {
     "data": {
      "image/png": "[encoded data removed]",
      "text/plain": [
       "<Figure size 432x288 with 1 Axes>"
      ]
     },
     "metadata": {},
     "output_type": "display_data"
    },
    {
     "data": {
      "image/png": "[encoded data removed]",
      "text/plain": [
       "<Figure size 576x576 with 3 Axes>"
      ]
     },
     "metadata": {
      "needs_background": "light"
     },
     "output_type": "display_data"
    },
    {
     "name": "stdout",
     "output_type": "stream",
     "text": [
      "cpu_time:133.00182843208313\n"
     ]
    }
   ],
   "source": [
    "results_folder = '\\Results'\n",
    "method_name = 'UST-Net'\n",
    "\n",
    "results_folder = './Results'\n",
    "params = {\n",
    "    \"heads\":heads,\n",
    "    \"low_dim\":ds,\n",
    "    \"scale\":scale,\n",
    "    \"batch_size\": batch_size,\n",
    "    \"data\": hsi,\n",
    "    \"epochs\": epochs,\n",
    "    \"n_bands\": hsi.bands,\n",
    "    \"GT\": hsi.gt,\n",
    "    \"lr\": learning_rate,\n",
    "    \"optimizer\": opt,\n",
    "    \"loss\": loss,\n",
    "    \"num_endmembers\":hsi.p\n",
    "    }\n",
    "\n",
    "save_folder = results_folder+'/'+method_name+'/'+dataset\n",
    "if not os.path.exists(save_folder):\n",
    "    os.makedirs(save_folder)\n",
    "for run in range(1): \n",
    "    \n",
    "    training_data = list()\n",
    "    for i in range(0, 10):\n",
    "        training_data.append(hsi.image_pad[np.newaxis, :])\n",
    "    training_data = np.concatenate(training_data, axis=0)\n",
    "    \n",
    "    save_folder = results_folder+'/'+method_name+'/'+dataset\n",
    "    save_name = dataset+'_run'+str(ds)+'.mat'\n",
    "    save_path = save_folder+'/'+save_name\n",
    "    start = time.time()\n",
    "    autoencoder = Autoencoder(training_data,params)\n",
    "    autoencoder.fit(training_data)\n",
    "    endmembers = autoencoder.get_endmembers()\n",
    "    abundances = autoencoder.get_abundances() \n",
    "    end = time.time()\n",
    "    plotEndmembersAndGT(endmembers, hsi.gt)\n",
    "    sio.savemat(save_path,{'A':endmembers,'S':abundances})\n",
    "    cpu_time = end - start\n",
    "    print('cpu_time:{}'.format(cpu_time))\n",
    "    del autoencoder"
   ]
  },
  {
   "cell_type": "code",
   "execution_count": null,
   "id": "f5f13d6a",
   "metadata": {},
   "outputs": [],
   "source": []
  }
 ],
 "metadata": {
  "kernelspec": {
   "display_name": "tf2.4.1",
   "language": "python",
   "name": "tf2.4.1"
  },
  "language_info": {
   "codemirror_mode": {
    "name": "ipython",
    "version": 3
   },
   "file_extension": ".py",
   "mimetype": "text/x-python",
   "name": "python",
   "nbconvert_exporter": "python",
   "pygments_lexer": "ipython3",
   "version": "3.8.13"
  },
  "toc": {
   "base_numbering": 1,
   "nav_menu": {},
   "number_sections": true,
   "sideBar": true,
   "skip_h1_title": false,
   "title_cell": "Table of Contents",
   "title_sidebar": "Contents",
   "toc_cell": false,
   "toc_position": {},
   "toc_section_display": true,
   "toc_window_display": false
  }
 },
 "nbformat": 4,
 "nbformat_minor": 5
}
